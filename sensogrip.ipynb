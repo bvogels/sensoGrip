{
 "cells": [
  {
   "cell_type": "code",
   "execution_count": 404,
   "metadata": {
    "collapsed": true
   },
   "outputs": [],
   "source": [
    "import pandas as pd\n",
    "pd.options.mode.chained_assignment = None"
   ]
  },
  {
   "cell_type": "markdown",
   "source": [
    "Input data is read from the SEMS files. The file names are identified by a column in an Excel sheet,\n",
    "as well as the associated SEMS score. Each file has the readings of one child."
   ],
   "metadata": {
    "collapsed": false
   }
  },
  {
   "cell_type": "code",
   "execution_count": 405,
   "outputs": [
    {
     "data": {
      "text/plain": "  Unnamed: 0 C (Standardformen) SEMS Text  Alter Geschlecht  SEMS\n0       KL22                NaN         x      9          w   0.0\n1       KL15                NaN         x      9          m   1.0\n2     KL15_2                NaN         x      9          m   1.0\n3       KL14                NaN         x      8          w   1.0\n4        KB5                NaN         x      8          w   1.0",
      "text/html": "<div>\n<style scoped>\n    .dataframe tbody tr th:only-of-type {\n        vertical-align: middle;\n    }\n\n    .dataframe tbody tr th {\n        vertical-align: top;\n    }\n\n    .dataframe thead th {\n        text-align: right;\n    }\n</style>\n<table border=\"1\" class=\"dataframe\">\n  <thead>\n    <tr style=\"text-align: right;\">\n      <th></th>\n      <th>Unnamed: 0</th>\n      <th>C (Standardformen)</th>\n      <th>SEMS Text</th>\n      <th>Alter</th>\n      <th>Geschlecht</th>\n      <th>SEMS</th>\n    </tr>\n  </thead>\n  <tbody>\n    <tr>\n      <th>0</th>\n      <td>KL22</td>\n      <td>NaN</td>\n      <td>x</td>\n      <td>9</td>\n      <td>w</td>\n      <td>0.0</td>\n    </tr>\n    <tr>\n      <th>1</th>\n      <td>KL15</td>\n      <td>NaN</td>\n      <td>x</td>\n      <td>9</td>\n      <td>m</td>\n      <td>1.0</td>\n    </tr>\n    <tr>\n      <th>2</th>\n      <td>KL15_2</td>\n      <td>NaN</td>\n      <td>x</td>\n      <td>9</td>\n      <td>m</td>\n      <td>1.0</td>\n    </tr>\n    <tr>\n      <th>3</th>\n      <td>KL14</td>\n      <td>NaN</td>\n      <td>x</td>\n      <td>8</td>\n      <td>w</td>\n      <td>1.0</td>\n    </tr>\n    <tr>\n      <th>4</th>\n      <td>KB5</td>\n      <td>NaN</td>\n      <td>x</td>\n      <td>8</td>\n      <td>w</td>\n      <td>1.0</td>\n    </tr>\n  </tbody>\n</table>\n</div>"
     },
     "execution_count": 405,
     "metadata": {},
     "output_type": "execute_result"
    }
   ],
   "source": [
    "input_data = pd.read_excel(r'SEMS_Werte.xlsx').dropna(subset=['SEMS'])\n",
    "children = input_data.iloc[:, 0].tolist()\n",
    "input_data.head()"
   ],
   "metadata": {
    "collapsed": false,
    "pycharm": {
     "name": "#%%\n"
    }
   }
  },
  {
   "cell_type": "markdown",
   "source": [
    "Interation over the list of children obtained from the Excel sheet. Each file in the folder is read, extracting the relevant data in the process. Additional information (SEMS, age, sex) is read from the Excel file. The additional information is attached to the pandas dataframe of measurements.\n",
    "\n",
    "\n"
   ],
   "metadata": {
    "collapsed": false
   }
  },
  {
   "cell_type": "code",
   "execution_count": 406,
   "outputs": [
    {
     "data": {
      "text/plain": "   tipPressure  fingerPressure  angle  writtingSpeed      accX      accY  \\\n0            0               5     51             16 -0.820742 -0.148008   \n1            0               7     51             18 -0.826357 -0.216611   \n2            0               8     51             11 -0.812441 -0.277402   \n3            0               9     52              6 -0.826602 -0.227354   \n4            0               9     52              5 -0.831240 -0.241270   \n\n       accZ     gyroX     gyroY     gyroZ  sems  age  sex  \n0 -0.466416 -4.941526 -2.814809  8.887481     0    9    1  \n1 -0.553330 -8.468245 -6.921679 -3.249924     0    9    1  \n2 -0.554307 -5.063664 -3.776641  3.024885     0    9    1  \n3 -0.561387  1.058473  4.101222 -1.784275     0    9    1  \n4 -0.543809  3.119542  1.704275  0.597405     0    9    1  ",
      "text/html": "<div>\n<style scoped>\n    .dataframe tbody tr th:only-of-type {\n        vertical-align: middle;\n    }\n\n    .dataframe tbody tr th {\n        vertical-align: top;\n    }\n\n    .dataframe thead th {\n        text-align: right;\n    }\n</style>\n<table border=\"1\" class=\"dataframe\">\n  <thead>\n    <tr style=\"text-align: right;\">\n      <th></th>\n      <th>tipPressure</th>\n      <th>fingerPressure</th>\n      <th>angle</th>\n      <th>writtingSpeed</th>\n      <th>accX</th>\n      <th>accY</th>\n      <th>accZ</th>\n      <th>gyroX</th>\n      <th>gyroY</th>\n      <th>gyroZ</th>\n      <th>sems</th>\n      <th>age</th>\n      <th>sex</th>\n    </tr>\n  </thead>\n  <tbody>\n    <tr>\n      <th>0</th>\n      <td>0</td>\n      <td>5</td>\n      <td>51</td>\n      <td>16</td>\n      <td>-0.820742</td>\n      <td>-0.148008</td>\n      <td>-0.466416</td>\n      <td>-4.941526</td>\n      <td>-2.814809</td>\n      <td>8.887481</td>\n      <td>0</td>\n      <td>9</td>\n      <td>1</td>\n    </tr>\n    <tr>\n      <th>1</th>\n      <td>0</td>\n      <td>7</td>\n      <td>51</td>\n      <td>18</td>\n      <td>-0.826357</td>\n      <td>-0.216611</td>\n      <td>-0.553330</td>\n      <td>-8.468245</td>\n      <td>-6.921679</td>\n      <td>-3.249924</td>\n      <td>0</td>\n      <td>9</td>\n      <td>1</td>\n    </tr>\n    <tr>\n      <th>2</th>\n      <td>0</td>\n      <td>8</td>\n      <td>51</td>\n      <td>11</td>\n      <td>-0.812441</td>\n      <td>-0.277402</td>\n      <td>-0.554307</td>\n      <td>-5.063664</td>\n      <td>-3.776641</td>\n      <td>3.024885</td>\n      <td>0</td>\n      <td>9</td>\n      <td>1</td>\n    </tr>\n    <tr>\n      <th>3</th>\n      <td>0</td>\n      <td>9</td>\n      <td>52</td>\n      <td>6</td>\n      <td>-0.826602</td>\n      <td>-0.227354</td>\n      <td>-0.561387</td>\n      <td>1.058473</td>\n      <td>4.101222</td>\n      <td>-1.784275</td>\n      <td>0</td>\n      <td>9</td>\n      <td>1</td>\n    </tr>\n    <tr>\n      <th>4</th>\n      <td>0</td>\n      <td>9</td>\n      <td>52</td>\n      <td>5</td>\n      <td>-0.831240</td>\n      <td>-0.241270</td>\n      <td>-0.543809</td>\n      <td>3.119542</td>\n      <td>1.704275</td>\n      <td>0.597405</td>\n      <td>0</td>\n      <td>9</td>\n      <td>1</td>\n    </tr>\n  </tbody>\n</table>\n</div>"
     },
     "execution_count": 406,
     "metadata": {},
     "output_type": "execute_result"
    }
   ],
   "source": [
    "import itertools\n",
    "import glob\n",
    "\n",
    "data = []\n",
    "\n",
    "for index, child in enumerate(children):\n",
    "    files = glob.glob('data/' + child + '*SEMS*')\n",
    "    for file in files:\n",
    "        raw_data = pd.read_csv(file)\n",
    "        selected_columns = raw_data.iloc[:, [1, 4, 7, 8, 9, 10, 11, 12, 13, 14]]\n",
    "        sems = int(input_data.loc[index]['SEMS'])\n",
    "        age = input_data.loc[index]['Alter']\n",
    "        if input_data.loc[index]['Geschlecht'] == 'w':\n",
    "            sex = 1\n",
    "        else:\n",
    "            sex = 0\n",
    "        additional_information = {'sems': sems, 'age': age, 'sex': sex}\n",
    "        for information, value in additional_information.items():\n",
    "            i = list(itertools.repeat(value, len(selected_columns)))\n",
    "            selected_columns[information] = i\n",
    "        data.append(selected_columns)\n",
    "    full_data = pd.concat(data)\n",
    "full_data.head()"
   ],
   "metadata": {
    "collapsed": false,
    "pycharm": {
     "name": "#%%\n"
    }
   }
  },
  {
   "cell_type": "code",
   "execution_count": 407,
   "outputs": [
    {
     "name": "stdout",
     "output_type": "stream",
     "text": [
      "Length of entire data frame: 118294 rows.\n",
      "Shape: (118294, 13)\n"
     ]
    }
   ],
   "source": [
    "print(\"Length of entire data frame:\", len(full_data), \"rows.\")\n",
    "print(\"Shape:\", full_data.shape)"
   ],
   "metadata": {
    "collapsed": false,
    "pycharm": {
     "name": "#%%\n"
    }
   }
  },
  {
   "cell_type": "code",
   "execution_count": 408,
   "outputs": [],
   "source": [
    "train_split = 0.8\n",
    "test_split = 0.15\n",
    "validation_split = 0.5"
   ],
   "metadata": {
    "collapsed": false,
    "pycharm": {
     "name": "#%%\n"
    }
   }
  },
  {
   "cell_type": "code",
   "execution_count": 409,
   "outputs": [
    {
     "name": "stdout",
     "output_type": "stream",
     "text": [
      "Training Set: 94635, Test Set: 76892, Validation Set 0\n",
      "Data type: <class 'pandas.core.frame.DataFrame'>\n"
     ]
    },
    {
     "data": {
      "text/plain": "      tipPressure  fingerPressure  angle  writtingSpeed      accX      accY  \\\n2773            2               0     53             33 -0.769961 -0.170469   \n1002           28             136     47             83 -0.772168 -0.448994   \n2155           91              40     51             47 -0.841250 -0.000059   \n2760           35              19     51             64 -0.814150  0.324893   \n893             0               0     41             86 -0.782412  0.210879   \n\n          accZ      gyroX      gyroY      gyroZ  sems  age  sex  \n2773 -0.625840 -12.529313 -12.143053   8.963817     7    7    0  \n1002 -0.585479  46.126492  10.746260 -26.880762     4    9    0  \n2155 -0.546982 -14.010229 -13.593435 -19.540001     5    9    0  \n2760 -0.903428  14.279847 -24.051451 -25.707939     7    7    0  \n893  -0.670518  36.417252  -6.875878 -43.219391     5    9    0  ",
      "text/html": "<div>\n<style scoped>\n    .dataframe tbody tr th:only-of-type {\n        vertical-align: middle;\n    }\n\n    .dataframe tbody tr th {\n        vertical-align: top;\n    }\n\n    .dataframe thead th {\n        text-align: right;\n    }\n</style>\n<table border=\"1\" class=\"dataframe\">\n  <thead>\n    <tr style=\"text-align: right;\">\n      <th></th>\n      <th>tipPressure</th>\n      <th>fingerPressure</th>\n      <th>angle</th>\n      <th>writtingSpeed</th>\n      <th>accX</th>\n      <th>accY</th>\n      <th>accZ</th>\n      <th>gyroX</th>\n      <th>gyroY</th>\n      <th>gyroZ</th>\n      <th>sems</th>\n      <th>age</th>\n      <th>sex</th>\n    </tr>\n  </thead>\n  <tbody>\n    <tr>\n      <th>2773</th>\n      <td>2</td>\n      <td>0</td>\n      <td>53</td>\n      <td>33</td>\n      <td>-0.769961</td>\n      <td>-0.170469</td>\n      <td>-0.625840</td>\n      <td>-12.529313</td>\n      <td>-12.143053</td>\n      <td>8.963817</td>\n      <td>7</td>\n      <td>7</td>\n      <td>0</td>\n    </tr>\n    <tr>\n      <th>1002</th>\n      <td>28</td>\n      <td>136</td>\n      <td>47</td>\n      <td>83</td>\n      <td>-0.772168</td>\n      <td>-0.448994</td>\n      <td>-0.585479</td>\n      <td>46.126492</td>\n      <td>10.746260</td>\n      <td>-26.880762</td>\n      <td>4</td>\n      <td>9</td>\n      <td>0</td>\n    </tr>\n    <tr>\n      <th>2155</th>\n      <td>91</td>\n      <td>40</td>\n      <td>51</td>\n      <td>47</td>\n      <td>-0.841250</td>\n      <td>-0.000059</td>\n      <td>-0.546982</td>\n      <td>-14.010229</td>\n      <td>-13.593435</td>\n      <td>-19.540001</td>\n      <td>5</td>\n      <td>9</td>\n      <td>0</td>\n    </tr>\n    <tr>\n      <th>2760</th>\n      <td>35</td>\n      <td>19</td>\n      <td>51</td>\n      <td>64</td>\n      <td>-0.814150</td>\n      <td>0.324893</td>\n      <td>-0.903428</td>\n      <td>14.279847</td>\n      <td>-24.051451</td>\n      <td>-25.707939</td>\n      <td>7</td>\n      <td>7</td>\n      <td>0</td>\n    </tr>\n    <tr>\n      <th>893</th>\n      <td>0</td>\n      <td>0</td>\n      <td>41</td>\n      <td>86</td>\n      <td>-0.782412</td>\n      <td>0.210879</td>\n      <td>-0.670518</td>\n      <td>36.417252</td>\n      <td>-6.875878</td>\n      <td>-43.219391</td>\n      <td>5</td>\n      <td>9</td>\n      <td>0</td>\n    </tr>\n  </tbody>\n</table>\n</div>"
     },
     "execution_count": 409,
     "metadata": {},
     "output_type": "execute_result"
    }
   ],
   "source": [
    "import numpy as np\n",
    "\n",
    "df_sample = full_data.sample(frac=1, random_state=12)\n",
    "splits = [int(train_split * len(full_data)), int((1 - validation_split - test_split) * len(full_data))]\n",
    "train_ds, val_ds, test_ds = np.split(df_sample, splits)\n",
    "print(\"Training Set: {}, Test Set: {}, Validation Set {}\".format(len(train_ds), len(test_ds), len(val_ds)))\n",
    "print(\"Data type: {}\".format(type(train_ds)))\n",
    "train_ds.head()"
   ],
   "metadata": {
    "collapsed": false,
    "pycharm": {
     "name": "#%%\n"
    }
   }
  },
  {
   "cell_type": "markdown",
   "source": [
    "The target value (label) is extracted from the training set, as well as the features. The features\n",
    "stored in the array 'data_columns.'"
   ],
   "metadata": {
    "collapsed": false
   }
  },
  {
   "cell_type": "code",
   "execution_count": 410,
   "outputs": [
    {
     "name": "stdout",
     "output_type": "stream",
     "text": [
      "Data type: <class 'pandas.core.frame.DataFrame'>\n"
     ]
    },
    {
     "data": {
      "text/plain": "      tipPressure  fingerPressure  angle  writtingSpeed      accX      accY  \\\n2773            2               0     53             33 -0.769961 -0.170469   \n1002           28             136     47             83 -0.772168 -0.448994   \n2155           91              40     51             47 -0.841250 -0.000059   \n2760           35              19     51             64 -0.814150  0.324893   \n893             0               0     41             86 -0.782412  0.210879   \n\n          accZ      gyroX      gyroY      gyroZ  \n2773 -0.625840 -12.529313 -12.143053   8.963817  \n1002 -0.585479  46.126492  10.746260 -26.880762  \n2155 -0.546982 -14.010229 -13.593435 -19.540001  \n2760 -0.903428  14.279847 -24.051451 -25.707939  \n893  -0.670518  36.417252  -6.875878 -43.219391  ",
      "text/html": "<div>\n<style scoped>\n    .dataframe tbody tr th:only-of-type {\n        vertical-align: middle;\n    }\n\n    .dataframe tbody tr th {\n        vertical-align: top;\n    }\n\n    .dataframe thead th {\n        text-align: right;\n    }\n</style>\n<table border=\"1\" class=\"dataframe\">\n  <thead>\n    <tr style=\"text-align: right;\">\n      <th></th>\n      <th>tipPressure</th>\n      <th>fingerPressure</th>\n      <th>angle</th>\n      <th>writtingSpeed</th>\n      <th>accX</th>\n      <th>accY</th>\n      <th>accZ</th>\n      <th>gyroX</th>\n      <th>gyroY</th>\n      <th>gyroZ</th>\n    </tr>\n  </thead>\n  <tbody>\n    <tr>\n      <th>2773</th>\n      <td>2</td>\n      <td>0</td>\n      <td>53</td>\n      <td>33</td>\n      <td>-0.769961</td>\n      <td>-0.170469</td>\n      <td>-0.625840</td>\n      <td>-12.529313</td>\n      <td>-12.143053</td>\n      <td>8.963817</td>\n    </tr>\n    <tr>\n      <th>1002</th>\n      <td>28</td>\n      <td>136</td>\n      <td>47</td>\n      <td>83</td>\n      <td>-0.772168</td>\n      <td>-0.448994</td>\n      <td>-0.585479</td>\n      <td>46.126492</td>\n      <td>10.746260</td>\n      <td>-26.880762</td>\n    </tr>\n    <tr>\n      <th>2155</th>\n      <td>91</td>\n      <td>40</td>\n      <td>51</td>\n      <td>47</td>\n      <td>-0.841250</td>\n      <td>-0.000059</td>\n      <td>-0.546982</td>\n      <td>-14.010229</td>\n      <td>-13.593435</td>\n      <td>-19.540001</td>\n    </tr>\n    <tr>\n      <th>2760</th>\n      <td>35</td>\n      <td>19</td>\n      <td>51</td>\n      <td>64</td>\n      <td>-0.814150</td>\n      <td>0.324893</td>\n      <td>-0.903428</td>\n      <td>14.279847</td>\n      <td>-24.051451</td>\n      <td>-25.707939</td>\n    </tr>\n    <tr>\n      <th>893</th>\n      <td>0</td>\n      <td>0</td>\n      <td>41</td>\n      <td>86</td>\n      <td>-0.782412</td>\n      <td>0.210879</td>\n      <td>-0.670518</td>\n      <td>36.417252</td>\n      <td>-6.875878</td>\n      <td>-43.219391</td>\n    </tr>\n  </tbody>\n</table>\n</div>"
     },
     "execution_count": 410,
     "metadata": {},
     "output_type": "execute_result"
    }
   ],
   "source": [
    "target = train_ds.pop('sems')\n",
    "headers = ['tipPressure', 'fingerPressure', 'angle', 'writtingSpeed', 'accX', 'accY', 'accZ', 'gyroX', 'gyroY', 'gyroZ']\n",
    "data_columns = train_ds[headers]\n",
    "print(\"Data type: {}\".format(type(train_ds)))\n",
    "data_columns.head()"
   ],
   "metadata": {
    "collapsed": false,
    "pycharm": {
     "name": "#%%\n"
    }
   }
  },
  {
   "cell_type": "markdown",
   "source": [
    "Combining features and labels in one Tensorflow dataset"
   ],
   "metadata": {
    "collapsed": false
   }
  },
  {
   "cell_type": "code",
   "execution_count": 413,
   "outputs": [
    {
     "name": "stderr",
     "output_type": "stream",
     "text": [
      "/Applications/PyCharm.app/Contents/plugins/python/helpers/pydev/_pydevd_bundle/pydevd_utils.py:605: FutureWarning: The behavior of `series[i:j]` with an integer-dtype index is deprecated. In a future version, this will be treated as *label-based* indexing, consistent with e.g. `series[i]` lookups. To retain the old behavior, use `series.iloc[i:j]`. To get the future behavior, use `series.loc[i:j]`.\n",
      "  s = s[:max_items]\n",
      "/Applications/PyCharm.app/Contents/plugins/python/helpers/pydev/_pydevd_bundle/pydevd_utils.py:606: FutureWarning: iteritems is deprecated and will be removed in a future version. Use .items instead.\n",
      "  for item in s.iteritems():\n"
     ]
    },
    {
     "name": "stdout",
     "output_type": "stream",
     "text": [
      "WARNING:tensorflow:Tensor._shape is private, use Tensor.shape instead. Tensor._shape will eventually be removed.\n",
      "WARNING:tensorflow:Tensor._shape is private, use Tensor.shape instead. Tensor._shape will eventually be removed.\n"
     ]
    },
    {
     "name": "stderr",
     "output_type": "stream",
     "text": [
      "/Applications/PyCharm.app/Contents/plugins/python/helpers/pydev/_pydevd_bundle/pydevd_utils.py:605: FutureWarning: The behavior of `series[i:j]` with an integer-dtype index is deprecated. In a future version, this will be treated as *label-based* indexing, consistent with e.g. `series[i]` lookups. To retain the old behavior, use `series.iloc[i:j]`. To get the future behavior, use `series.loc[i:j]`.\n",
      "  s = s[:max_items]\n",
      "/Applications/PyCharm.app/Contents/plugins/python/helpers/pydev/_pydevd_bundle/pydevd_utils.py:606: FutureWarning: iteritems is deprecated and will be removed in a future version. Use .items instead.\n",
      "  for item in s.iteritems():\n"
     ]
    }
   ],
   "source": [
    "import tensorflow as tf\n",
    "n = tf.convert_to_tensor(data_columns)\n",
    "n_shape = tf.shape(n)\n",
    "batch_size = 25\n",
    "print(\"Data type: {}, Shape: {}\".format(type(n), n_shape))"
   ],
   "metadata": {
    "collapsed": false,
    "pycharm": {
     "name": "#%%\n"
    }
   }
  },
  {
   "cell_type": "code",
   "execution_count": 412,
   "outputs": [],
   "source": [
    "normalizer = tf.keras.layers.Normalization(axis=-1)\n",
    "normalizer.adapt(n)"
   ],
   "metadata": {
    "collapsed": false,
    "pycharm": {
     "name": "#%%\n"
    }
   }
  },
  {
   "cell_type": "code",
   "execution_count": 413,
   "outputs": [
    {
     "name": "stdout",
     "output_type": "stream",
     "text": [
      "tf.Tensor([94635    10], shape=(2,), dtype=int32)\n"
     ]
    },
    {
     "ename": "ValueError",
     "evalue": "in user code:\n\n    File \"/Users/benjaminvogels/PycharmProjects/sensogrip/venv/lib/python3.9/site-packages/keras/engine/training.py\", line 1249, in train_function  *\n        return step_function(self, iterator)\n    File \"/Users/benjaminvogels/PycharmProjects/sensogrip/venv/lib/python3.9/site-packages/keras/engine/training.py\", line 1233, in step_function  **\n        outputs = model.distribute_strategy.run(run_step, args=(data,))\n    File \"/Users/benjaminvogels/PycharmProjects/sensogrip/venv/lib/python3.9/site-packages/keras/engine/training.py\", line 1222, in run_step  **\n        outputs = model.train_step(data)\n    File \"/Users/benjaminvogels/PycharmProjects/sensogrip/venv/lib/python3.9/site-packages/keras/engine/training.py\", line 1023, in train_step\n        y_pred = self(x, training=True)\n    File \"/Users/benjaminvogels/PycharmProjects/sensogrip/venv/lib/python3.9/site-packages/keras/utils/traceback_utils.py\", line 70, in error_handler\n        raise e.with_traceback(filtered_tb) from None\n\n    ValueError: Exception encountered when calling layer 'module_wrapper_76' (type ModuleWrapper).\n    \n    Input 0 of layer lstm_33 is incompatible with the layer: expected ndim=3, found ndim=2. Full shape received: (None, 10)\n    \n    Call arguments received by layer 'module_wrapper_76' (type ModuleWrapper):\n      • args=('tf.Tensor(shape=(None, 10), dtype=float32)',)\n      • kwargs={'training': 'True'}\n",
     "output_type": "error",
     "traceback": [
      "\u001B[0;31m---------------------------------------------------------------------------\u001B[0m",
      "\u001B[0;31mValueError\u001B[0m                                Traceback (most recent call last)",
      "Cell \u001B[0;32mIn[413], line 14\u001B[0m\n\u001B[1;32m     11\u001B[0m model\u001B[38;5;241m.\u001B[39madd(Dense(units\u001B[38;5;241m=\u001B[39m\u001B[38;5;241m1\u001B[39m, activation\u001B[38;5;241m=\u001B[39m\u001B[38;5;124m'\u001B[39m\u001B[38;5;124msigmoid\u001B[39m\u001B[38;5;124m'\u001B[39m))\n\u001B[1;32m     13\u001B[0m model\u001B[38;5;241m.\u001B[39mcompile(loss\u001B[38;5;241m=\u001B[39m\u001B[38;5;124m'\u001B[39m\u001B[38;5;124mMeanSquaredError\u001B[39m\u001B[38;5;124m'\u001B[39m, optimizer\u001B[38;5;241m=\u001B[39m\u001B[38;5;124m'\u001B[39m\u001B[38;5;124madam\u001B[39m\u001B[38;5;124m'\u001B[39m, metrics\u001B[38;5;241m=\u001B[39m[\u001B[38;5;124m'\u001B[39m\u001B[38;5;124maccuracy\u001B[39m\u001B[38;5;124m'\u001B[39m])\n\u001B[0;32m---> 14\u001B[0m \u001B[43mmodel\u001B[49m\u001B[38;5;241;43m.\u001B[39;49m\u001B[43mfit\u001B[49m\u001B[43m(\u001B[49m\u001B[43mn\u001B[49m\u001B[43m,\u001B[49m\u001B[43m \u001B[49m\u001B[43mtarget\u001B[49m\u001B[43m,\u001B[49m\u001B[43m \u001B[49m\u001B[43mbatch_size\u001B[49m\u001B[38;5;241;43m=\u001B[39;49m\u001B[38;5;241;43m25\u001B[39;49m\u001B[43m)\u001B[49m\n",
      "File \u001B[0;32m~/PycharmProjects/sensogrip/venv/lib/python3.9/site-packages/keras/utils/traceback_utils.py:70\u001B[0m, in \u001B[0;36mfilter_traceback.<locals>.error_handler\u001B[0;34m(*args, **kwargs)\u001B[0m\n\u001B[1;32m     67\u001B[0m     filtered_tb \u001B[38;5;241m=\u001B[39m _process_traceback_frames(e\u001B[38;5;241m.\u001B[39m__traceback__)\n\u001B[1;32m     68\u001B[0m     \u001B[38;5;66;03m# To get the full stack trace, call:\u001B[39;00m\n\u001B[1;32m     69\u001B[0m     \u001B[38;5;66;03m# `tf.debugging.disable_traceback_filtering()`\u001B[39;00m\n\u001B[0;32m---> 70\u001B[0m     \u001B[38;5;28;01mraise\u001B[39;00m e\u001B[38;5;241m.\u001B[39mwith_traceback(filtered_tb) \u001B[38;5;28;01mfrom\u001B[39;00m \u001B[38;5;28mNone\u001B[39m\n\u001B[1;32m     71\u001B[0m \u001B[38;5;28;01mfinally\u001B[39;00m:\n\u001B[1;32m     72\u001B[0m     \u001B[38;5;28;01mdel\u001B[39;00m filtered_tb\n",
      "File \u001B[0;32m/var/folders/yk/m3cll8bs02b3394gxf4f2h700000gp/T/__autograph_generated_filexzwbcxbk.py:15\u001B[0m, in \u001B[0;36mouter_factory.<locals>.inner_factory.<locals>.tf__train_function\u001B[0;34m(iterator)\u001B[0m\n\u001B[1;32m     13\u001B[0m \u001B[38;5;28;01mtry\u001B[39;00m:\n\u001B[1;32m     14\u001B[0m     do_return \u001B[38;5;241m=\u001B[39m \u001B[38;5;28;01mTrue\u001B[39;00m\n\u001B[0;32m---> 15\u001B[0m     retval_ \u001B[38;5;241m=\u001B[39m ag__\u001B[38;5;241m.\u001B[39mconverted_call(ag__\u001B[38;5;241m.\u001B[39mld(step_function), (ag__\u001B[38;5;241m.\u001B[39mld(\u001B[38;5;28mself\u001B[39m), ag__\u001B[38;5;241m.\u001B[39mld(iterator)), \u001B[38;5;28;01mNone\u001B[39;00m, fscope)\n\u001B[1;32m     16\u001B[0m \u001B[38;5;28;01mexcept\u001B[39;00m:\n\u001B[1;32m     17\u001B[0m     do_return \u001B[38;5;241m=\u001B[39m \u001B[38;5;28;01mFalse\u001B[39;00m\n",
      "\u001B[0;31mValueError\u001B[0m: in user code:\n\n    File \"/Users/benjaminvogels/PycharmProjects/sensogrip/venv/lib/python3.9/site-packages/keras/engine/training.py\", line 1249, in train_function  *\n        return step_function(self, iterator)\n    File \"/Users/benjaminvogels/PycharmProjects/sensogrip/venv/lib/python3.9/site-packages/keras/engine/training.py\", line 1233, in step_function  **\n        outputs = model.distribute_strategy.run(run_step, args=(data,))\n    File \"/Users/benjaminvogels/PycharmProjects/sensogrip/venv/lib/python3.9/site-packages/keras/engine/training.py\", line 1222, in run_step  **\n        outputs = model.train_step(data)\n    File \"/Users/benjaminvogels/PycharmProjects/sensogrip/venv/lib/python3.9/site-packages/keras/engine/training.py\", line 1023, in train_step\n        y_pred = self(x, training=True)\n    File \"/Users/benjaminvogels/PycharmProjects/sensogrip/venv/lib/python3.9/site-packages/keras/utils/traceback_utils.py\", line 70, in error_handler\n        raise e.with_traceback(filtered_tb) from None\n\n    ValueError: Exception encountered when calling layer 'module_wrapper_76' (type ModuleWrapper).\n    \n    Input 0 of layer lstm_33 is incompatible with the layer: expected ndim=3, found ndim=2. Full shape received: (None, 10)\n    \n    Call arguments received by layer 'module_wrapper_76' (type ModuleWrapper):\n      • args=('tf.Tensor(shape=(None, 10), dtype=float32)',)\n      • kwargs={'training': 'True'}\n"
     ]
    }
   ],
   "source": [
    "from tensorflow.python.keras.layers import Reshape, LSTM, Dense\n",
    "from tensorflow.python.keras import Input\n",
    "from keras import Sequential\n",
    "import keras\n",
    "\n",
    "input_shape = (94635, 10)\n",
    "\n",
    "model = Sequential()\n",
    "print(tf.shape(n))\n",
    "model.add(LSTM(units=50, input_shape=(25, 94635, 10)))\n",
    "model.add(Dense(units=1, activation='sigmoid'))\n",
    "\n",
    "model.compile(loss='MeanSquaredError', optimizer='adam', metrics=['accuracy'])\n",
    "model.fit(n, target, batch_size=25)"
   ],
   "metadata": {
    "collapsed": false,
    "pycharm": {
     "name": "#%%\n"
    }
   }
  },
  {
   "cell_type": "markdown",
   "source": [],
   "metadata": {
    "collapsed": false
   }
  }
 ],
 "metadata": {
  "kernelspec": {
   "display_name": "Python 3",
   "language": "python",
   "name": "python3"
  },
  "language_info": {
   "codemirror_mode": {
    "name": "ipython",
    "version": 2
   },
   "file_extension": ".py",
   "mimetype": "text/x-python",
   "name": "python",
   "nbconvert_exporter": "python",
   "pygments_lexer": "ipython2",
   "version": "2.7.6"
  }
 },
 "nbformat": 4,
 "nbformat_minor": 0
}